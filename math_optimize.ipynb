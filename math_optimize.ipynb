{
 "cells": [
  {
   "cell_type": "code",
   "execution_count": 5,
   "id": "318fe438-6e3c-4536-b02f-3c5ffaa086dc",
   "metadata": {},
   "outputs": [],
   "source": [
    "import pulp"
   ]
  },
  {
   "cell_type": "code",
   "execution_count": 9,
   "id": "db09c683-255d-4d86-a201-7e8245c40059",
   "metadata": {},
   "outputs": [],
   "source": [
    "prob = pulp.LpProblem(\"SLE\", pulp.LpMaximize)"
   ]
  },
  {
   "cell_type": "code",
   "execution_count": 11,
   "id": "30cb9783-6059-4711-b0e5-951db1ffee07",
   "metadata": {},
   "outputs": [],
   "source": [
    "x = pulp.LpVariable(\"x\", cat=\"Continuous\")\n",
    "y = pulp.LpVariable(\"y\", cat=\"Continuous\")"
   ]
  },
  {
   "cell_type": "code",
   "execution_count": 13,
   "id": "6fc2ca66-ddc6-475e-b918-a710af3a5300",
   "metadata": {},
   "outputs": [],
   "source": [
    "prob += 120 * x + 150 * y == 1440\n",
    "prob += x + y == 10"
   ]
  },
  {
   "cell_type": "code",
   "execution_count": 15,
   "id": "9cd387b1-2511-4dc9-9d62-778687a8013c",
   "metadata": {},
   "outputs": [],
   "source": [
    "status = prob.solve()"
   ]
  },
  {
   "cell_type": "code",
   "execution_count": 17,
   "id": "12dc5cdf-a6de-4fad-88f9-d2a03c75b9ab",
   "metadata": {},
   "outputs": [
    {
     "name": "stdout",
     "output_type": "stream",
     "text": [
      "Status Optimal\n"
     ]
    }
   ],
   "source": [
    "print(\"Status\", pulp.LpStatus[status])"
   ]
  },
  {
   "cell_type": "code",
   "execution_count": 19,
   "id": "b0d63381-b3fc-4856-becf-4fae898d0ad5",
   "metadata": {},
   "outputs": [
    {
     "name": "stdout",
     "output_type": "stream",
     "text": [
      "x = 2.0 \n",
      "y = 8.0\n"
     ]
    }
   ],
   "source": [
    "print(\"x =\", x.value(),\"\\ny =\", y.value())"
   ]
  },
  {
   "cell_type": "code",
   "execution_count": 21,
   "id": "2b629a2c-51b0-4ac0-8091-b8c57ed3a11b",
   "metadata": {},
   "outputs": [],
   "source": [
    "x = pulp.LpVariable(\"x\", cat=\"Continuous\")\n",
    "y = pulp.LpVariable(\"y\", cat=\"Continuous\")"
   ]
  },
  {
   "cell_type": "code",
   "execution_count": 23,
   "id": "55bc0db2-6479-4588-b956-49bea4ab9252",
   "metadata": {},
   "outputs": [],
   "source": [
    "prob = pulp.LpProblem(\"SLE\", pulp.LpMaximize)"
   ]
  },
  {
   "cell_type": "code",
   "execution_count": 29,
   "id": "31345b1b-6651-4faa-ae10-755dd1531c58",
   "metadata": {},
   "outputs": [],
   "source": [
    "prob += x + 3 * y <= 30\n",
    "prob += 2 * x + y <= 40\n",
    "prob += x + 2 * y\n",
    "prob += x >= 0\n",
    "prob += y >= 0"
   ]
  },
  {
   "cell_type": "code",
   "execution_count": 33,
   "id": "1261f261-213a-4935-a1dc-4d4f2132e2ef",
   "metadata": {},
   "outputs": [],
   "source": [
    "status = prob.solve()"
   ]
  },
  {
   "cell_type": "code",
   "execution_count": 35,
   "id": "208b7e5b-534f-446d-85f2-ac69c308511f",
   "metadata": {},
   "outputs": [
    {
     "name": "stdout",
     "output_type": "stream",
     "text": [
      "status Optimal\n"
     ]
    }
   ],
   "source": [
    "print(\"status\", pulp.LpStatus[status])"
   ]
  },
  {
   "cell_type": "code",
   "execution_count": 41,
   "id": "1fe1e552-33e1-440a-9e05-c0dd0bb49197",
   "metadata": {},
   "outputs": [
    {
     "name": "stdout",
     "output_type": "stream",
     "text": [
      "x = 18.0 \n",
      "y = 4.0 \n",
      "obj 26.0\n"
     ]
    }
   ],
   "source": [
    "print(\"x =\", x.value(),\"\\ny =\", y.value(), \"\\nobj\", prob.objective.value())"
   ]
  },
  {
   "cell_type": "code",
   "execution_count": 43,
   "id": "e1c10f90-538b-4faf-93aa-eba984d54766",
   "metadata": {},
   "outputs": [],
   "source": [
    "import pandas as pd"
   ]
  },
  {
   "cell_type": "code",
   "execution_count": 750,
   "id": "31e4a16b-92d8-4b56-a571-64b933201581",
   "metadata": {},
   "outputs": [
    {
     "data": {
      "text/html": [
       "<div>\n",
       "<style scoped>\n",
       "    .dataframe tbody tr th:only-of-type {\n",
       "        vertical-align: middle;\n",
       "    }\n",
       "\n",
       "    .dataframe tbody tr th {\n",
       "        vertical-align: top;\n",
       "    }\n",
       "\n",
       "    .dataframe thead th {\n",
       "        text-align: right;\n",
       "    }\n",
       "</style>\n",
       "<table border=\"1\" class=\"dataframe\">\n",
       "  <thead>\n",
       "    <tr style=\"text-align: right;\">\n",
       "      <th></th>\n",
       "      <th>p</th>\n",
       "      <th>m</th>\n",
       "      <th>require</th>\n",
       "    </tr>\n",
       "  </thead>\n",
       "  <tbody>\n",
       "    <tr>\n",
       "      <th>0</th>\n",
       "      <td>p1</td>\n",
       "      <td>m1</td>\n",
       "      <td>2</td>\n",
       "    </tr>\n",
       "    <tr>\n",
       "      <th>1</th>\n",
       "      <td>p1</td>\n",
       "      <td>m2</td>\n",
       "      <td>0</td>\n",
       "    </tr>\n",
       "    <tr>\n",
       "      <th>2</th>\n",
       "      <td>p1</td>\n",
       "      <td>m3</td>\n",
       "      <td>1</td>\n",
       "    </tr>\n",
       "    <tr>\n",
       "      <th>3</th>\n",
       "      <td>p2</td>\n",
       "      <td>m1</td>\n",
       "      <td>3</td>\n",
       "    </tr>\n",
       "    <tr>\n",
       "      <th>4</th>\n",
       "      <td>p2</td>\n",
       "      <td>m2</td>\n",
       "      <td>2</td>\n",
       "    </tr>\n",
       "    <tr>\n",
       "      <th>5</th>\n",
       "      <td>p2</td>\n",
       "      <td>m3</td>\n",
       "      <td>0</td>\n",
       "    </tr>\n",
       "    <tr>\n",
       "      <th>6</th>\n",
       "      <td>p3</td>\n",
       "      <td>m1</td>\n",
       "      <td>0</td>\n",
       "    </tr>\n",
       "    <tr>\n",
       "      <th>7</th>\n",
       "      <td>p3</td>\n",
       "      <td>m2</td>\n",
       "      <td>2</td>\n",
       "    </tr>\n",
       "    <tr>\n",
       "      <th>8</th>\n",
       "      <td>p3</td>\n",
       "      <td>m3</td>\n",
       "      <td>2</td>\n",
       "    </tr>\n",
       "    <tr>\n",
       "      <th>9</th>\n",
       "      <td>p4</td>\n",
       "      <td>m1</td>\n",
       "      <td>2</td>\n",
       "    </tr>\n",
       "    <tr>\n",
       "      <th>10</th>\n",
       "      <td>p4</td>\n",
       "      <td>m2</td>\n",
       "      <td>2</td>\n",
       "    </tr>\n",
       "    <tr>\n",
       "      <th>11</th>\n",
       "      <td>p4</td>\n",
       "      <td>m3</td>\n",
       "      <td>2</td>\n",
       "    </tr>\n",
       "  </tbody>\n",
       "</table>\n",
       "</div>"
      ],
      "text/plain": [
       "     p   m  require\n",
       "0   p1  m1        2\n",
       "1   p1  m2        0\n",
       "2   p1  m3        1\n",
       "3   p2  m1        3\n",
       "4   p2  m2        2\n",
       "5   p2  m3        0\n",
       "6   p3  m1        0\n",
       "7   p3  m2        2\n",
       "8   p3  m3        2\n",
       "9   p4  m1        2\n",
       "10  p4  m2        2\n",
       "11  p4  m3        2"
      ]
     },
     "execution_count": 750,
     "metadata": {},
     "output_type": "execute_result"
    }
   ],
   "source": [
    "df = pd.read_csv(\"PyOptBook/2.tutorial/requires.csv\")\n",
    "df"
   ]
  },
  {
   "cell_type": "code",
   "execution_count": 752,
   "id": "46d681e9-41f1-4020-9ea9-923b07f4a6df",
   "metadata": {},
   "outputs": [
    {
     "data": {
      "text/html": [
       "<div>\n",
       "<style scoped>\n",
       "    .dataframe tbody tr th:only-of-type {\n",
       "        vertical-align: middle;\n",
       "    }\n",
       "\n",
       "    .dataframe tbody tr th {\n",
       "        vertical-align: top;\n",
       "    }\n",
       "\n",
       "    .dataframe thead th {\n",
       "        text-align: right;\n",
       "    }\n",
       "</style>\n",
       "<table border=\"1\" class=\"dataframe\">\n",
       "  <thead>\n",
       "    <tr style=\"text-align: right;\">\n",
       "      <th></th>\n",
       "      <th>m</th>\n",
       "      <th>stock</th>\n",
       "    </tr>\n",
       "  </thead>\n",
       "  <tbody>\n",
       "    <tr>\n",
       "      <th>0</th>\n",
       "      <td>m1</td>\n",
       "      <td>35</td>\n",
       "    </tr>\n",
       "    <tr>\n",
       "      <th>1</th>\n",
       "      <td>m2</td>\n",
       "      <td>22</td>\n",
       "    </tr>\n",
       "    <tr>\n",
       "      <th>2</th>\n",
       "      <td>m3</td>\n",
       "      <td>27</td>\n",
       "    </tr>\n",
       "  </tbody>\n",
       "</table>\n",
       "</div>"
      ],
      "text/plain": [
       "    m  stock\n",
       "0  m1     35\n",
       "1  m2     22\n",
       "2  m3     27"
      ]
     },
     "execution_count": 752,
     "metadata": {},
     "output_type": "execute_result"
    }
   ],
   "source": [
    "stock_df = pd.read_csv(\"PyOptBook/2.tutorial/stocks.csv\")\n",
    "stock_df"
   ]
  },
  {
   "cell_type": "code",
   "execution_count": 754,
   "id": "2afe55de-29ec-48ab-8b14-23101ecc9b88",
   "metadata": {},
   "outputs": [
    {
     "data": {
      "text/html": [
       "<div>\n",
       "<style scoped>\n",
       "    .dataframe tbody tr th:only-of-type {\n",
       "        vertical-align: middle;\n",
       "    }\n",
       "\n",
       "    .dataframe tbody tr th {\n",
       "        vertical-align: top;\n",
       "    }\n",
       "\n",
       "    .dataframe thead th {\n",
       "        text-align: right;\n",
       "    }\n",
       "</style>\n",
       "<table border=\"1\" class=\"dataframe\">\n",
       "  <thead>\n",
       "    <tr style=\"text-align: right;\">\n",
       "      <th></th>\n",
       "      <th>p</th>\n",
       "      <th>gain</th>\n",
       "    </tr>\n",
       "  </thead>\n",
       "  <tbody>\n",
       "    <tr>\n",
       "      <th>0</th>\n",
       "      <td>p1</td>\n",
       "      <td>3</td>\n",
       "    </tr>\n",
       "    <tr>\n",
       "      <th>1</th>\n",
       "      <td>p2</td>\n",
       "      <td>4</td>\n",
       "    </tr>\n",
       "    <tr>\n",
       "      <th>2</th>\n",
       "      <td>p3</td>\n",
       "      <td>4</td>\n",
       "    </tr>\n",
       "    <tr>\n",
       "      <th>3</th>\n",
       "      <td>p4</td>\n",
       "      <td>5</td>\n",
       "    </tr>\n",
       "  </tbody>\n",
       "</table>\n",
       "</div>"
      ],
      "text/plain": [
       "    p  gain\n",
       "0  p1     3\n",
       "1  p2     4\n",
       "2  p3     4\n",
       "3  p4     5"
      ]
     },
     "execution_count": 754,
     "metadata": {},
     "output_type": "execute_result"
    }
   ],
   "source": [
    "gain_df = pd.read_csv(\"PyOptBook/2.tutorial/gains.csv\")\n",
    "gain_df"
   ]
  },
  {
   "cell_type": "code",
   "execution_count": 756,
   "id": "c37ae6f7-c846-4e0c-9db2-330d9a009bcc",
   "metadata": {},
   "outputs": [
    {
     "data": {
      "text/plain": [
       "['p1', 'p2', 'p3', 'p4']"
      ]
     },
     "execution_count": 756,
     "metadata": {},
     "output_type": "execute_result"
    }
   ],
   "source": [
    "P = gain_df[\"p\"].tolist()\n",
    "P"
   ]
  },
  {
   "cell_type": "code",
   "execution_count": 758,
   "id": "9a7a02fa-17eb-478c-a545-03ab777aa574",
   "metadata": {},
   "outputs": [
    {
     "data": {
      "text/plain": [
       "['m1', 'm2', 'm3']"
      ]
     },
     "execution_count": 758,
     "metadata": {},
     "output_type": "execute_result"
    }
   ],
   "source": [
    "M = stock_df[\"m\"].tolist()\n",
    "M"
   ]
  },
  {
   "cell_type": "code",
   "execution_count": 760,
   "id": "fb8e005a-9ea2-4d2e-9cb9-36d34321d5fe",
   "metadata": {},
   "outputs": [
    {
     "data": {
      "text/plain": [
       "{'m1': 35, 'm2': 22, 'm3': 27}"
      ]
     },
     "execution_count": 760,
     "metadata": {},
     "output_type": "execute_result"
    }
   ],
   "source": [
    "stock = {}\n",
    "tmp = stock_df[\"stock\"].tolist()\n",
    "for i in range(len(M)):\n",
    "    stock[M[i]] = tmp[i]\n",
    "stock"
   ]
  },
  {
   "cell_type": "code",
   "execution_count": 762,
   "id": "09c7bfb4-da82-46b8-8117-ca851df6545d",
   "metadata": {},
   "outputs": [
    {
     "data": {
      "text/plain": [
       "{'p1': 3, 'p2': 4, 'p3': 4, 'p4': 5}"
      ]
     },
     "execution_count": 762,
     "metadata": {},
     "output_type": "execute_result"
    }
   ],
   "source": [
    "gain = {}\n",
    "tmp = gain_df[\"gain\"].tolist()\n",
    "for i in range(len(P)):\n",
    "    gain[P[i]] = tmp[i]\n",
    "gain"
   ]
  },
  {
   "cell_type": "code",
   "execution_count": 764,
   "id": "354ba05d-b5c0-4843-bdbf-ff89e75f01f5",
   "metadata": {},
   "outputs": [
    {
     "data": {
      "text/plain": [
       "{('p1', 'm1'): 2,\n",
       " ('p1', 'm2'): 0,\n",
       " ('p1', 'm3'): 1,\n",
       " ('p2', 'm1'): 3,\n",
       " ('p2', 'm2'): 2,\n",
       " ('p2', 'm3'): 0,\n",
       " ('p3', 'm1'): 0,\n",
       " ('p3', 'm2'): 2,\n",
       " ('p3', 'm3'): 2,\n",
       " ('p4', 'm1'): 2,\n",
       " ('p4', 'm2'): 2,\n",
       " ('p4', 'm3'): 2}"
      ]
     },
     "execution_count": 764,
     "metadata": {},
     "output_type": "execute_result"
    }
   ],
   "source": [
    "tmp = df.values\n",
    "require = {}\n",
    "for i in range(len(tmp)):\n",
    "    require[(tmp[i][0], tmp[i][1])] = tmp[i][2]\n",
    "require"
   ]
  },
  {
   "cell_type": "code",
   "execution_count": 766,
   "id": "b0cc48b3-0d36-4487-bd16-e3c458a19242",
   "metadata": {},
   "outputs": [],
   "source": [
    "prob = pulp.LpProblem(\"LP2\", pulp.LpMaximize)"
   ]
  },
  {
   "cell_type": "code",
   "execution_count": 768,
   "id": "75b2d196-1f30-4f7e-9ee6-c1a761054715",
   "metadata": {},
   "outputs": [
    {
     "data": {
      "text/plain": [
       "{'p1': x_p1, 'p2': x_p2, 'p3': x_p3, 'p4': x_p4}"
      ]
     },
     "execution_count": 768,
     "metadata": {},
     "output_type": "execute_result"
    }
   ],
   "source": [
    "x = {}\n",
    "for p in P:\n",
    "    x[p] = pulp.LpVariable(\"x_%s\"%(p), cat=\"Continuous\")\n",
    "x"
   ]
  },
  {
   "cell_type": "code",
   "execution_count": 770,
   "id": "2d896628-725e-41e7-939f-9309651fd284",
   "metadata": {},
   "outputs": [],
   "source": [
    "for p in P:\n",
    "    prob += x[p] >= 0"
   ]
  },
  {
   "cell_type": "code",
   "execution_count": 772,
   "id": "6f48983d-b780-43ce-bdce-e9747cf7beae",
   "metadata": {},
   "outputs": [],
   "source": [
    "for m in M:\n",
    "    prob += pulp.lpSum([require[p, m] * x[p] for p in P]) <= stock[m]"
   ]
  },
  {
   "cell_type": "code",
   "execution_count": 774,
   "id": "ebc4cc31-1e02-40cd-926d-5f787d91c7a2",
   "metadata": {},
   "outputs": [],
   "source": [
    "prob += pulp.lpSum([gain[p] * x[p]] for p in P)"
   ]
  },
  {
   "cell_type": "code",
   "execution_count": 776,
   "id": "684890ea-16eb-4ed4-ba2e-e9c5d9ac9428",
   "metadata": {},
   "outputs": [
    {
     "name": "stdout",
     "output_type": "stream",
     "text": [
      "Status: Optimal\n"
     ]
    },
    {
     "data": {
      "text/plain": [
       "LP2:\n",
       "MAXIMIZE\n",
       "3*x_p1 + 4*x_p2 + 4*x_p3 + 5*x_p4 + 0\n",
       "SUBJECT TO\n",
       "_C1: x_p1 >= 0\n",
       "\n",
       "_C2: x_p2 >= 0\n",
       "\n",
       "_C3: x_p3 >= 0\n",
       "\n",
       "_C4: x_p4 >= 0\n",
       "\n",
       "_C5: 2 x_p1 + 3 x_p2 + 2 x_p4 <= 35\n",
       "\n",
       "_C6: 2 x_p2 + 2 x_p3 + 2 x_p4 <= 22\n",
       "\n",
       "_C7: x_p1 + 2 x_p3 + 2 x_p4 <= 27\n",
       "\n",
       "VARIABLES\n",
       "x_p1 free Continuous\n",
       "x_p2 free Continuous\n",
       "x_p3 free Continuous\n",
       "x_p4 free Continuous"
      ]
     },
     "execution_count": 776,
     "metadata": {},
     "output_type": "execute_result"
    }
   ],
   "source": [
    "status = prob.solve()\n",
    "print(\"Status:\", pulp.LpStatus[status])\n",
    "prob"
   ]
  },
  {
   "cell_type": "code",
   "execution_count": 778,
   "id": "ed5e7c1a-62fb-42c1-84d5-82abcb6d6896",
   "metadata": {},
   "outputs": [
    {
     "name": "stdout",
     "output_type": "stream",
     "text": [
      "p1 12.142857\n",
      "p2 3.5714286\n",
      "p3 7.4285714\n",
      "p4 0.0\n",
      "obj: 80.42857099999999\n"
     ]
    }
   ],
   "source": [
    "for p in P:\n",
    "    print(p, x[p].value())\n",
    "print(\"obj:\", prob.objective.value())"
   ]
  },
  {
   "cell_type": "code",
   "execution_count": 780,
   "id": "03f081a6-df54-43d2-ab22-a21524000f60",
   "metadata": {},
   "outputs": [
    {
     "data": {
      "text/plain": [
       "LP2:\n",
       "MAXIMIZE\n",
       "3*x_p1 + 4*x_p2 + 4*x_p3 + 5*x_p4 + 0\n",
       "SUBJECT TO\n",
       "_C1: x_p1 >= 0\n",
       "\n",
       "_C2: x_p2 >= 0\n",
       "\n",
       "_C3: x_p3 >= 0\n",
       "\n",
       "_C4: x_p4 >= 0\n",
       "\n",
       "_C5: 2 x_p1 + 3 x_p2 + 2 x_p4 <= 35\n",
       "\n",
       "_C6: 2 x_p2 + 2 x_p3 + 2 x_p4 <= 22\n",
       "\n",
       "_C7: x_p1 + 2 x_p3 + 2 x_p4 <= 27\n",
       "\n",
       "VARIABLES\n",
       "x_p1 free Continuous\n",
       "x_p2 free Continuous\n",
       "x_p3 free Continuous\n",
       "x_p4 free Continuous"
      ]
     },
     "execution_count": 780,
     "metadata": {},
     "output_type": "execute_result"
    }
   ],
   "source": [
    "prob"
   ]
  },
  {
   "cell_type": "code",
   "execution_count": 782,
   "id": "c0e11f4b-35af-41e5-bcaa-2ce52f77967b",
   "metadata": {},
   "outputs": [],
   "source": [
    "x = pulp.LpVariable.dicts(\"x\", P, cat=\"Integer\")"
   ]
  },
  {
   "cell_type": "code",
   "execution_count": 784,
   "id": "d7aa7c15-f326-432e-ac34-0f8033c243d9",
   "metadata": {},
   "outputs": [],
   "source": [
    "prob = pulp.LpProblem(\"IP\", pulp.LpMaximize)"
   ]
  },
  {
   "cell_type": "code",
   "execution_count": 786,
   "id": "b4fd6790-ffc4-4927-9c86-6375c6b5ad54",
   "metadata": {},
   "outputs": [
    {
     "data": {
      "text/plain": [
       "{'p1': x_p1, 'p2': x_p2, 'p3': x_p3, 'p4': x_p4}"
      ]
     },
     "execution_count": 786,
     "metadata": {},
     "output_type": "execute_result"
    }
   ],
   "source": [
    "for p in P:\n",
    "    prob += x[p] >= 0\n",
    "x"
   ]
  },
  {
   "cell_type": "code",
   "execution_count": 788,
   "id": "07cb7862-f8e6-422f-9471-d6185eed8007",
   "metadata": {},
   "outputs": [],
   "source": [
    "for m in M:\n",
    "    prob += pulp.lpSum([require[p, m] * x[p] for p in P]) <= stock[m]"
   ]
  },
  {
   "cell_type": "code",
   "execution_count": 790,
   "id": "41876f3c-cbd1-4c93-ab57-d631b7e94472",
   "metadata": {},
   "outputs": [],
   "source": [
    "prob += pulp.lpSum([gain[p] * x[p]] for p in P)"
   ]
  },
  {
   "cell_type": "code",
   "execution_count": 792,
   "id": "cea9713e-af6c-485e-8bb0-3ea61abdb8c4",
   "metadata": {},
   "outputs": [
    {
     "name": "stdout",
     "output_type": "stream",
     "text": [
      "Status: Optimal\n"
     ]
    }
   ],
   "source": [
    "status = prob.solve()\n",
    "print(\"Status:\", pulp.LpStatus[status])"
   ]
  },
  {
   "cell_type": "code",
   "execution_count": 794,
   "id": "7dfea5f9-1a87-4daa-8b71-6a283ec77498",
   "metadata": {},
   "outputs": [
    {
     "name": "stdout",
     "output_type": "stream",
     "text": [
      "p1 13.0\n",
      "p2 3.0\n",
      "p3 7.0\n",
      "p4 -0.0\n",
      "obj: 79.0\n"
     ]
    }
   ],
   "source": [
    "for p in P:\n",
    "    print(p, x[p].value())\n",
    "print(\"obj:\", prob.objective.value())"
   ]
  },
  {
   "cell_type": "markdown",
   "id": "4669459c-f0fb-4e83-8b74-20e144a30f6a",
   "metadata": {},
   "source": [
    "# 演習問題\n",
    "しっかり学ぶ数理最適化2.4(1)から"
   ]
  },
  {
   "cell_type": "code",
   "execution_count": 797,
   "id": "93ec5962-90e7-4c11-8b2b-9323c3f07f28",
   "metadata": {},
   "outputs": [],
   "source": [
    "prob = pulp.LpProblem(\"SLE\", pulp.LpMaximize)"
   ]
  },
  {
   "cell_type": "code",
   "execution_count": 799,
   "id": "3a326b75-1630-4cd1-aa7a-713fc809e669",
   "metadata": {},
   "outputs": [],
   "source": [
    "x = pulp.LpVariable(\"x\", cat=\"Continuous\")\n",
    "y = pulp.LpVariable(\"y\", cat=\"Continuous\")\n",
    "z = pulp.LpVariable(\"z\", cat=\"Continuous\")"
   ]
  },
  {
   "cell_type": "code",
   "execution_count": 801,
   "id": "dbe1e13b-b48a-4b4a-82e3-a68d8b3e0381",
   "metadata": {},
   "outputs": [],
   "source": [
    "prob += x + y + z <= 20\n",
    "prob += 3 * x + 4 * y + 6 * z <= 100\n",
    "prob += 4 * x + 5 * y + 3 * z <= 100\n",
    "prob += x >= 0\n",
    "prob += y >= 0\n",
    "prob += z >= 0\n",
    "prob += 4 * x + 8 * y + 10 * z"
   ]
  },
  {
   "cell_type": "code",
   "execution_count": 803,
   "id": "98d99525-63da-4c5d-b05e-dfb0e8a06eee",
   "metadata": {},
   "outputs": [],
   "source": [
    "status = prob.solve()"
   ]
  },
  {
   "cell_type": "code",
   "execution_count": 805,
   "id": "96f8f8f1-5e53-431c-8daf-491d7782e7f5",
   "metadata": {},
   "outputs": [
    {
     "name": "stdout",
     "output_type": "stream",
     "text": [
      "Status: Optimal\n"
     ]
    }
   ],
   "source": [
    "print(\"Status:\", pulp.LpStatus[status])"
   ]
  },
  {
   "cell_type": "code",
   "execution_count": 807,
   "id": "952f25a5-427b-4a41-86b5-424e0b8f28e5",
   "metadata": {},
   "outputs": [
    {
     "name": "stdout",
     "output_type": "stream",
     "text": [
      "x = 0.0\n",
      "y = 10.0\n",
      "z = 10.0\n",
      "pbj = 180.0\n"
     ]
    }
   ],
   "source": [
    "print(\"x =\", x.value())\n",
    "print(\"y =\", y.value())\n",
    "print(\"z =\", z.value())\n",
    "print(\"pbj =\", prob.objective.value())"
   ]
  },
  {
   "cell_type": "code",
   "execution_count": 809,
   "id": "b70c333a-8dd4-4f8d-9435-1b23e6f81804",
   "metadata": {},
   "outputs": [
    {
     "data": {
      "text/html": [
       "<div>\n",
       "<style scoped>\n",
       "    .dataframe tbody tr th:only-of-type {\n",
       "        vertical-align: middle;\n",
       "    }\n",
       "\n",
       "    .dataframe tbody tr th {\n",
       "        vertical-align: top;\n",
       "    }\n",
       "\n",
       "    .dataframe thead th {\n",
       "        text-align: right;\n",
       "    }\n",
       "</style>\n",
       "<table border=\"1\" class=\"dataframe\">\n",
       "  <thead>\n",
       "    <tr style=\"text-align: right;\">\n",
       "      <th></th>\n",
       "      <th>p</th>\n",
       "      <th>m</th>\n",
       "      <th>require</th>\n",
       "    </tr>\n",
       "  </thead>\n",
       "  <tbody>\n",
       "    <tr>\n",
       "      <th>0</th>\n",
       "      <td>p1</td>\n",
       "      <td>m1</td>\n",
       "      <td>2</td>\n",
       "    </tr>\n",
       "    <tr>\n",
       "      <th>1</th>\n",
       "      <td>p1</td>\n",
       "      <td>m2</td>\n",
       "      <td>0</td>\n",
       "    </tr>\n",
       "    <tr>\n",
       "      <th>2</th>\n",
       "      <td>p1</td>\n",
       "      <td>m3</td>\n",
       "      <td>1</td>\n",
       "    </tr>\n",
       "    <tr>\n",
       "      <th>3</th>\n",
       "      <td>p2</td>\n",
       "      <td>m1</td>\n",
       "      <td>3</td>\n",
       "    </tr>\n",
       "    <tr>\n",
       "      <th>4</th>\n",
       "      <td>p2</td>\n",
       "      <td>m2</td>\n",
       "      <td>2</td>\n",
       "    </tr>\n",
       "    <tr>\n",
       "      <th>5</th>\n",
       "      <td>p2</td>\n",
       "      <td>m3</td>\n",
       "      <td>0</td>\n",
       "    </tr>\n",
       "    <tr>\n",
       "      <th>6</th>\n",
       "      <td>p3</td>\n",
       "      <td>m1</td>\n",
       "      <td>0</td>\n",
       "    </tr>\n",
       "    <tr>\n",
       "      <th>7</th>\n",
       "      <td>p3</td>\n",
       "      <td>m2</td>\n",
       "      <td>2</td>\n",
       "    </tr>\n",
       "    <tr>\n",
       "      <th>8</th>\n",
       "      <td>p3</td>\n",
       "      <td>m3</td>\n",
       "      <td>2</td>\n",
       "    </tr>\n",
       "    <tr>\n",
       "      <th>9</th>\n",
       "      <td>p4</td>\n",
       "      <td>m1</td>\n",
       "      <td>2</td>\n",
       "    </tr>\n",
       "    <tr>\n",
       "      <th>10</th>\n",
       "      <td>p4</td>\n",
       "      <td>m2</td>\n",
       "      <td>2</td>\n",
       "    </tr>\n",
       "    <tr>\n",
       "      <th>11</th>\n",
       "      <td>p4</td>\n",
       "      <td>m3</td>\n",
       "      <td>2</td>\n",
       "    </tr>\n",
       "  </tbody>\n",
       "</table>\n",
       "</div>"
      ],
      "text/plain": [
       "     p   m  require\n",
       "0   p1  m1        2\n",
       "1   p1  m2        0\n",
       "2   p1  m3        1\n",
       "3   p2  m1        3\n",
       "4   p2  m2        2\n",
       "5   p2  m3        0\n",
       "6   p3  m1        0\n",
       "7   p3  m2        2\n",
       "8   p3  m3        2\n",
       "9   p4  m1        2\n",
       "10  p4  m2        2\n",
       "11  p4  m3        2"
      ]
     },
     "execution_count": 809,
     "metadata": {},
     "output_type": "execute_result"
    }
   ],
   "source": [
    "df_require = pd.read_csv(\"PyOptBook/2.tutorial/requires.csv\")\n",
    "df_require"
   ]
  },
  {
   "cell_type": "code",
   "execution_count": 811,
   "id": "a592d7ef-4a97-4470-8ef4-f581ee5358f0",
   "metadata": {},
   "outputs": [
    {
     "data": {
      "text/html": [
       "<div>\n",
       "<style scoped>\n",
       "    .dataframe tbody tr th:only-of-type {\n",
       "        vertical-align: middle;\n",
       "    }\n",
       "\n",
       "    .dataframe tbody tr th {\n",
       "        vertical-align: top;\n",
       "    }\n",
       "\n",
       "    .dataframe thead th {\n",
       "        text-align: right;\n",
       "    }\n",
       "</style>\n",
       "<table border=\"1\" class=\"dataframe\">\n",
       "  <thead>\n",
       "    <tr style=\"text-align: right;\">\n",
       "      <th></th>\n",
       "      <th>m</th>\n",
       "      <th>stock</th>\n",
       "    </tr>\n",
       "  </thead>\n",
       "  <tbody>\n",
       "    <tr>\n",
       "      <th>0</th>\n",
       "      <td>m1</td>\n",
       "      <td>35</td>\n",
       "    </tr>\n",
       "    <tr>\n",
       "      <th>1</th>\n",
       "      <td>m2</td>\n",
       "      <td>22</td>\n",
       "    </tr>\n",
       "    <tr>\n",
       "      <th>2</th>\n",
       "      <td>m3</td>\n",
       "      <td>27</td>\n",
       "    </tr>\n",
       "  </tbody>\n",
       "</table>\n",
       "</div>"
      ],
      "text/plain": [
       "    m  stock\n",
       "0  m1     35\n",
       "1  m2     22\n",
       "2  m3     27"
      ]
     },
     "execution_count": 811,
     "metadata": {},
     "output_type": "execute_result"
    }
   ],
   "source": [
    "df_stock = pd.read_csv(\"PyOptBook/2.tutorial/stocks.csv\")\n",
    "df_stock"
   ]
  },
  {
   "cell_type": "code",
   "execution_count": 813,
   "id": "ee1d9138-cb3c-447a-8a96-5063b17599cd",
   "metadata": {},
   "outputs": [
    {
     "data": {
      "text/html": [
       "<div>\n",
       "<style scoped>\n",
       "    .dataframe tbody tr th:only-of-type {\n",
       "        vertical-align: middle;\n",
       "    }\n",
       "\n",
       "    .dataframe tbody tr th {\n",
       "        vertical-align: top;\n",
       "    }\n",
       "\n",
       "    .dataframe thead th {\n",
       "        text-align: right;\n",
       "    }\n",
       "</style>\n",
       "<table border=\"1\" class=\"dataframe\">\n",
       "  <thead>\n",
       "    <tr style=\"text-align: right;\">\n",
       "      <th></th>\n",
       "      <th>p</th>\n",
       "      <th>gain</th>\n",
       "    </tr>\n",
       "  </thead>\n",
       "  <tbody>\n",
       "    <tr>\n",
       "      <th>0</th>\n",
       "      <td>p1</td>\n",
       "      <td>3</td>\n",
       "    </tr>\n",
       "    <tr>\n",
       "      <th>1</th>\n",
       "      <td>p2</td>\n",
       "      <td>4</td>\n",
       "    </tr>\n",
       "    <tr>\n",
       "      <th>2</th>\n",
       "      <td>p3</td>\n",
       "      <td>4</td>\n",
       "    </tr>\n",
       "    <tr>\n",
       "      <th>3</th>\n",
       "      <td>p4</td>\n",
       "      <td>5</td>\n",
       "    </tr>\n",
       "  </tbody>\n",
       "</table>\n",
       "</div>"
      ],
      "text/plain": [
       "    p  gain\n",
       "0  p1     3\n",
       "1  p2     4\n",
       "2  p3     4\n",
       "3  p4     5"
      ]
     },
     "execution_count": 813,
     "metadata": {},
     "output_type": "execute_result"
    }
   ],
   "source": [
    "df_gain = pd.read_csv(\"PyOptBook/2.tutorial/gains.csv\")\n",
    "df_gain"
   ]
  },
  {
   "cell_type": "code",
   "execution_count": 815,
   "id": "c3f52186-baf6-4f38-91b7-e007c108abce",
   "metadata": {},
   "outputs": [
    {
     "data": {
      "text/plain": [
       "{('p1', 'm1'): 2,\n",
       " ('p1', 'm2'): 0,\n",
       " ('p1', 'm3'): 1,\n",
       " ('p2', 'm1'): 3,\n",
       " ('p2', 'm2'): 2,\n",
       " ('p2', 'm3'): 0,\n",
       " ('p3', 'm1'): 0,\n",
       " ('p3', 'm2'): 2,\n",
       " ('p3', 'm3'): 2,\n",
       " ('p4', 'm1'): 2,\n",
       " ('p4', 'm2'): 2,\n",
       " ('p4', 'm3'): 2}"
      ]
     },
     "execution_count": 815,
     "metadata": {},
     "output_type": "execute_result"
    }
   ],
   "source": [
    "require = df_require.values\n",
    "requires = {}\n",
    "for p, m, req in require:\n",
    "    requires[(p, m)] = req\n",
    "requires"
   ]
  },
  {
   "cell_type": "code",
   "execution_count": 817,
   "id": "c5d5bf80-5ea9-484d-be00-e7bb049cdd08",
   "metadata": {},
   "outputs": [
    {
     "data": {
      "text/plain": [
       "{'m1': 35, 'm2': 22, 'm3': 27}"
      ]
     },
     "execution_count": 817,
     "metadata": {},
     "output_type": "execute_result"
    }
   ],
   "source": [
    "stock = df_stock.values\n",
    "stocks = {}\n",
    "for m, stc in stock:\n",
    "    stocks[m] = stc\n",
    "stocks"
   ]
  },
  {
   "cell_type": "code",
   "execution_count": 819,
   "id": "4fe4b065-22da-4aaa-bb24-c8b76debbbd2",
   "metadata": {},
   "outputs": [
    {
     "data": {
      "text/plain": [
       "{'p1': 3, 'p2': 4, 'p3': 4, 'p4': 5}"
      ]
     },
     "execution_count": 819,
     "metadata": {},
     "output_type": "execute_result"
    }
   ],
   "source": [
    "gain = df_gain.values\n",
    "gains = {}\n",
    "for p, gin in gain:\n",
    "    gains[p] = gin\n",
    "gains"
   ]
  },
  {
   "cell_type": "code",
   "execution_count": 821,
   "id": "513851c0-b083-4e47-aa72-7341cc34ff55",
   "metadata": {},
   "outputs": [],
   "source": [
    "prob = pulp.LpProblem(\"LP2\", pulp.LpMaximize)"
   ]
  },
  {
   "cell_type": "code",
   "execution_count": 823,
   "id": "8b1135d1-1e6f-4045-b7a5-d119a5b6572d",
   "metadata": {},
   "outputs": [
    {
     "data": {
      "text/plain": [
       "{'p1': x_p1, 'p2': x_p2, 'p3': x_p3, 'p4': x_p4}"
      ]
     },
     "execution_count": 823,
     "metadata": {},
     "output_type": "execute_result"
    }
   ],
   "source": [
    "x = {}\n",
    "for p in gain[:, 0]:\n",
    "    x[p] = pulp.LpVariable(\"x_%s\"%(p), cat=\"Continuous\")\n",
    "x"
   ]
  },
  {
   "cell_type": "code",
   "execution_count": 825,
   "id": "cb09512c-92ea-4bac-a2ff-4b89571d0bed",
   "metadata": {},
   "outputs": [
    {
     "data": {
      "text/plain": [
       "LP2:\n",
       "MAXIMIZE\n",
       "None\n",
       "SUBJECT TO\n",
       "_C1: x_p1 >= 0\n",
       "\n",
       "_C2: x_p2 >= 0\n",
       "\n",
       "_C3: x_p3 >= 0\n",
       "\n",
       "_C4: x_p4 >= 0\n",
       "\n",
       "VARIABLES\n",
       "x_p1 free Continuous\n",
       "x_p2 free Continuous\n",
       "x_p3 free Continuous\n",
       "x_p4 free Continuous"
      ]
     },
     "execution_count": 825,
     "metadata": {},
     "output_type": "execute_result"
    }
   ],
   "source": [
    "for p in gain[:, 0]:\n",
    "    prob += x[p] >= 0\n",
    "prob"
   ]
  },
  {
   "cell_type": "code",
   "execution_count": 827,
   "id": "050a3dd6-fa4f-4e63-a89c-6bcaf3ca1326",
   "metadata": {},
   "outputs": [
    {
     "data": {
      "text/plain": [
       "LP2:\n",
       "MAXIMIZE\n",
       "None\n",
       "SUBJECT TO\n",
       "_C1: x_p1 >= 0\n",
       "\n",
       "_C2: x_p2 >= 0\n",
       "\n",
       "_C3: x_p3 >= 0\n",
       "\n",
       "_C4: x_p4 >= 0\n",
       "\n",
       "_C5: 2 x_p1 + 3 x_p2 + 2 x_p4 <= 35\n",
       "\n",
       "_C6: 2 x_p2 + 2 x_p3 + 2 x_p4 <= 22\n",
       "\n",
       "_C7: x_p1 + 2 x_p3 + 2 x_p4 <= 27\n",
       "\n",
       "VARIABLES\n",
       "x_p1 free Continuous\n",
       "x_p2 free Continuous\n",
       "x_p3 free Continuous\n",
       "x_p4 free Continuous"
      ]
     },
     "execution_count": 827,
     "metadata": {},
     "output_type": "execute_result"
    }
   ],
   "source": [
    "for m in stock[:, 0]:\n",
    "    prob += pulp.lpSum([requires[p, m]*x[p] for p in gain[:, 0]]) <= stocks[m]\n",
    "prob"
   ]
  },
  {
   "cell_type": "code",
   "execution_count": 829,
   "id": "309fdd1f-48ac-4776-a799-8aef28f912ff",
   "metadata": {},
   "outputs": [
    {
     "data": {
      "text/plain": [
       "LP2:\n",
       "MAXIMIZE\n",
       "3*x_p1 + 4*x_p2 + 4*x_p3 + 5*x_p4 + 0\n",
       "SUBJECT TO\n",
       "_C1: x_p1 >= 0\n",
       "\n",
       "_C2: x_p2 >= 0\n",
       "\n",
       "_C3: x_p3 >= 0\n",
       "\n",
       "_C4: x_p4 >= 0\n",
       "\n",
       "_C5: 2 x_p1 + 3 x_p2 + 2 x_p4 <= 35\n",
       "\n",
       "_C6: 2 x_p2 + 2 x_p3 + 2 x_p4 <= 22\n",
       "\n",
       "_C7: x_p1 + 2 x_p3 + 2 x_p4 <= 27\n",
       "\n",
       "VARIABLES\n",
       "x_p1 free Continuous\n",
       "x_p2 free Continuous\n",
       "x_p3 free Continuous\n",
       "x_p4 free Continuous"
      ]
     },
     "execution_count": 829,
     "metadata": {},
     "output_type": "execute_result"
    }
   ],
   "source": [
    "# for p in gain[:, 0]:\n",
    "    # print(gains[p], x[p])\n",
    "prob += pulp.lpSum([gains[p] * x[p] for p in gain[:, 0]])\n",
    "prob"
   ]
  },
  {
   "cell_type": "code",
   "execution_count": 831,
   "id": "9a42a4fb-65c0-49e5-83e9-b54441d6b6f5",
   "metadata": {},
   "outputs": [],
   "source": [
    "status = prob.solve()"
   ]
  },
  {
   "cell_type": "code",
   "execution_count": 833,
   "id": "01076b81-4cb6-4313-9bcb-cac1547b452d",
   "metadata": {},
   "outputs": [
    {
     "name": "stdout",
     "output_type": "stream",
     "text": [
      "1\n"
     ]
    }
   ],
   "source": [
    "print(status)"
   ]
  },
  {
   "cell_type": "code",
   "execution_count": 835,
   "id": "84c4be9a-ae84-4540-ac00-5f1d6aba8249",
   "metadata": {},
   "outputs": [
    {
     "name": "stdout",
     "output_type": "stream",
     "text": [
      "OBJ 80.42857099999999\n"
     ]
    }
   ],
   "source": [
    "print(\"OBJ\", prob.objective.value())"
   ]
  },
  {
   "cell_type": "code",
   "execution_count": 837,
   "id": "b4e0e5ef-ca6e-4a8e-a6cc-007f8740fae6",
   "metadata": {},
   "outputs": [
    {
     "data": {
      "text/plain": [
       "LP2:\n",
       "MAXIMIZE\n",
       "3*x_p1 + 4*x_p2 + 4*x_p3 + 5*x_p4 + 0\n",
       "SUBJECT TO\n",
       "_C1: x_p1 >= 0\n",
       "\n",
       "_C2: x_p2 >= 0\n",
       "\n",
       "_C3: x_p3 >= 0\n",
       "\n",
       "_C4: x_p4 >= 0\n",
       "\n",
       "_C5: 2 x_p1 + 3 x_p2 + 2 x_p4 <= 35\n",
       "\n",
       "_C6: 2 x_p2 + 2 x_p3 + 2 x_p4 <= 22\n",
       "\n",
       "_C7: x_p1 + 2 x_p3 + 2 x_p4 <= 27\n",
       "\n",
       "VARIABLES\n",
       "x_p1 free Continuous\n",
       "x_p2 free Continuous\n",
       "x_p3 free Continuous\n",
       "x_p4 free Continuous"
      ]
     },
     "execution_count": 837,
     "metadata": {},
     "output_type": "execute_result"
    }
   ],
   "source": [
    "prob"
   ]
  },
  {
   "cell_type": "code",
   "execution_count": 839,
   "id": "3cdd14c3-adb2-43f0-acbb-5e34f178ad42",
   "metadata": {},
   "outputs": [
    {
     "name": "stdout",
     "output_type": "stream",
     "text": [
      "p1\n",
      "p1 12.142857\n",
      "p2\n",
      "p2 3.5714286\n",
      "p3\n",
      "p3 7.4285714\n",
      "p4\n",
      "p4 0.0\n"
     ]
    }
   ],
   "source": [
    "for p in gain[:, 0]:\n",
    "    print(p)\n",
    "    print(p, x[p].value())"
   ]
  },
  {
   "cell_type": "code",
   "execution_count": 841,
   "id": "83162603-b8df-4398-9a26-e22837117bdd",
   "metadata": {},
   "outputs": [
    {
     "data": {
      "text/plain": [
       "{'p1': 3, 'p2': 4, 'p3': 4, 'p4': 5}"
      ]
     },
     "execution_count": 841,
     "metadata": {},
     "output_type": "execute_result"
    }
   ],
   "source": [
    "gains"
   ]
  },
  {
   "cell_type": "code",
   "execution_count": null,
   "id": "bf2e071a-20eb-4d34-b442-6659e1770af7",
   "metadata": {},
   "outputs": [],
   "source": []
  }
 ],
 "metadata": {
  "kernelspec": {
   "display_name": "Python 3 (ipykernel)",
   "language": "python",
   "name": "python3"
  },
  "language_info": {
   "codemirror_mode": {
    "name": "ipython",
    "version": 3
   },
   "file_extension": ".py",
   "mimetype": "text/x-python",
   "name": "python",
   "nbconvert_exporter": "python",
   "pygments_lexer": "ipython3",
   "version": "3.12.4"
  }
 },
 "nbformat": 4,
 "nbformat_minor": 5
}
