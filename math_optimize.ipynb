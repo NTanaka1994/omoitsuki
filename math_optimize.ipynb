{
 "cells": [
  {
   "cell_type": "code",
   "execution_count": 5,
   "id": "318fe438-6e3c-4536-b02f-3c5ffaa086dc",
   "metadata": {},
   "outputs": [],
   "source": [
    "import pulp"
   ]
  },
  {
   "cell_type": "code",
   "execution_count": 9,
   "id": "db09c683-255d-4d86-a201-7e8245c40059",
   "metadata": {},
   "outputs": [],
   "source": [
    "prob = pulp.LpProblem(\"SLE\", pulp.LpMaximize)"
   ]
  },
  {
   "cell_type": "code",
   "execution_count": 11,
   "id": "30cb9783-6059-4711-b0e5-951db1ffee07",
   "metadata": {},
   "outputs": [],
   "source": [
    "x = pulp.LpVariable(\"x\", cat=\"Continuous\")\n",
    "y = pulp.LpVariable(\"y\", cat=\"Continuous\")"
   ]
  },
  {
   "cell_type": "code",
   "execution_count": 13,
   "id": "6fc2ca66-ddc6-475e-b918-a710af3a5300",
   "metadata": {},
   "outputs": [],
   "source": [
    "prob += 120 * x + 150 * y == 1440\n",
    "prob += x + y == 10"
   ]
  },
  {
   "cell_type": "code",
   "execution_count": 15,
   "id": "9cd387b1-2511-4dc9-9d62-778687a8013c",
   "metadata": {},
   "outputs": [],
   "source": [
    "status = prob.solve()"
   ]
  },
  {
   "cell_type": "code",
   "execution_count": 17,
   "id": "12dc5cdf-a6de-4fad-88f9-d2a03c75b9ab",
   "metadata": {},
   "outputs": [
    {
     "name": "stdout",
     "output_type": "stream",
     "text": [
      "Status Optimal\n"
     ]
    }
   ],
   "source": [
    "print(\"Status\", pulp.LpStatus[status])"
   ]
  },
  {
   "cell_type": "code",
   "execution_count": 19,
   "id": "b0d63381-b3fc-4856-becf-4fae898d0ad5",
   "metadata": {},
   "outputs": [
    {
     "name": "stdout",
     "output_type": "stream",
     "text": [
      "x = 2.0 \n",
      "y = 8.0\n"
     ]
    }
   ],
   "source": [
    "print(\"x =\", x.value(),\"\\ny =\", y.value())"
   ]
  },
  {
   "cell_type": "code",
   "execution_count": 21,
   "id": "2b629a2c-51b0-4ac0-8091-b8c57ed3a11b",
   "metadata": {},
   "outputs": [],
   "source": [
    "x = pulp.LpVariable(\"x\", cat=\"Continuous\")\n",
    "y = pulp.LpVariable(\"y\", cat=\"Continuous\")"
   ]
  },
  {
   "cell_type": "code",
   "execution_count": 23,
   "id": "55bc0db2-6479-4588-b956-49bea4ab9252",
   "metadata": {},
   "outputs": [],
   "source": [
    "prob = pulp.LpProblem(\"SLE\", pulp.LpMaximize)"
   ]
  },
  {
   "cell_type": "code",
   "execution_count": 29,
   "id": "31345b1b-6651-4faa-ae10-755dd1531c58",
   "metadata": {},
   "outputs": [],
   "source": [
    "prob += x + 3 * y <= 30\n",
    "prob += 2 * x + y <= 40\n",
    "prob += x + 2 * y\n",
    "prob += x >= 0\n",
    "prob += y >= 0"
   ]
  },
  {
   "cell_type": "code",
   "execution_count": 33,
   "id": "1261f261-213a-4935-a1dc-4d4f2132e2ef",
   "metadata": {},
   "outputs": [],
   "source": [
    "status = prob.solve()"
   ]
  },
  {
   "cell_type": "code",
   "execution_count": 35,
   "id": "208b7e5b-534f-446d-85f2-ac69c308511f",
   "metadata": {},
   "outputs": [
    {
     "name": "stdout",
     "output_type": "stream",
     "text": [
      "status Optimal\n"
     ]
    }
   ],
   "source": [
    "print(\"status\", pulp.LpStatus[status])"
   ]
  },
  {
   "cell_type": "code",
   "execution_count": 41,
   "id": "1fe1e552-33e1-440a-9e05-c0dd0bb49197",
   "metadata": {},
   "outputs": [
    {
     "name": "stdout",
     "output_type": "stream",
     "text": [
      "x = 18.0 \n",
      "y = 4.0 \n",
      "obj 26.0\n"
     ]
    }
   ],
   "source": [
    "print(\"x =\", x.value(),\"\\ny =\", y.value(), \"\\nobj\", prob.objective.value())"
   ]
  },
  {
   "cell_type": "code",
   "execution_count": 43,
   "id": "e1c10f90-538b-4faf-93aa-eba984d54766",
   "metadata": {},
   "outputs": [],
   "source": [
    "import pandas as pd"
   ]
  },
  {
   "cell_type": "code",
   "execution_count": 45,
   "id": "31e4a16b-92d8-4b56-a571-64b933201581",
   "metadata": {},
   "outputs": [
    {
     "data": {
      "text/html": [
       "<div>\n",
       "<style scoped>\n",
       "    .dataframe tbody tr th:only-of-type {\n",
       "        vertical-align: middle;\n",
       "    }\n",
       "\n",
       "    .dataframe tbody tr th {\n",
       "        vertical-align: top;\n",
       "    }\n",
       "\n",
       "    .dataframe thead th {\n",
       "        text-align: right;\n",
       "    }\n",
       "</style>\n",
       "<table border=\"1\" class=\"dataframe\">\n",
       "  <thead>\n",
       "    <tr style=\"text-align: right;\">\n",
       "      <th></th>\n",
       "      <th>p</th>\n",
       "      <th>m</th>\n",
       "      <th>require</th>\n",
       "    </tr>\n",
       "  </thead>\n",
       "  <tbody>\n",
       "    <tr>\n",
       "      <th>0</th>\n",
       "      <td>p1</td>\n",
       "      <td>m1</td>\n",
       "      <td>2</td>\n",
       "    </tr>\n",
       "    <tr>\n",
       "      <th>1</th>\n",
       "      <td>p1</td>\n",
       "      <td>m2</td>\n",
       "      <td>0</td>\n",
       "    </tr>\n",
       "    <tr>\n",
       "      <th>2</th>\n",
       "      <td>p1</td>\n",
       "      <td>m3</td>\n",
       "      <td>1</td>\n",
       "    </tr>\n",
       "    <tr>\n",
       "      <th>3</th>\n",
       "      <td>p2</td>\n",
       "      <td>m1</td>\n",
       "      <td>3</td>\n",
       "    </tr>\n",
       "    <tr>\n",
       "      <th>4</th>\n",
       "      <td>p2</td>\n",
       "      <td>m2</td>\n",
       "      <td>2</td>\n",
       "    </tr>\n",
       "    <tr>\n",
       "      <th>5</th>\n",
       "      <td>p2</td>\n",
       "      <td>m3</td>\n",
       "      <td>0</td>\n",
       "    </tr>\n",
       "    <tr>\n",
       "      <th>6</th>\n",
       "      <td>p3</td>\n",
       "      <td>m1</td>\n",
       "      <td>0</td>\n",
       "    </tr>\n",
       "    <tr>\n",
       "      <th>7</th>\n",
       "      <td>p3</td>\n",
       "      <td>m2</td>\n",
       "      <td>2</td>\n",
       "    </tr>\n",
       "    <tr>\n",
       "      <th>8</th>\n",
       "      <td>p3</td>\n",
       "      <td>m3</td>\n",
       "      <td>2</td>\n",
       "    </tr>\n",
       "    <tr>\n",
       "      <th>9</th>\n",
       "      <td>p4</td>\n",
       "      <td>m1</td>\n",
       "      <td>2</td>\n",
       "    </tr>\n",
       "    <tr>\n",
       "      <th>10</th>\n",
       "      <td>p4</td>\n",
       "      <td>m2</td>\n",
       "      <td>2</td>\n",
       "    </tr>\n",
       "    <tr>\n",
       "      <th>11</th>\n",
       "      <td>p4</td>\n",
       "      <td>m3</td>\n",
       "      <td>2</td>\n",
       "    </tr>\n",
       "  </tbody>\n",
       "</table>\n",
       "</div>"
      ],
      "text/plain": [
       "     p   m  require\n",
       "0   p1  m1        2\n",
       "1   p1  m2        0\n",
       "2   p1  m3        1\n",
       "3   p2  m1        3\n",
       "4   p2  m2        2\n",
       "5   p2  m3        0\n",
       "6   p3  m1        0\n",
       "7   p3  m2        2\n",
       "8   p3  m3        2\n",
       "9   p4  m1        2\n",
       "10  p4  m2        2\n",
       "11  p4  m3        2"
      ]
     },
     "execution_count": 45,
     "metadata": {},
     "output_type": "execute_result"
    }
   ],
   "source": [
    "df = pd.read_csv(\"PyOptBook/2.tutorial/requires.csv\")\n",
    "df"
   ]
  },
  {
   "cell_type": "code",
   "execution_count": 49,
   "id": "46d681e9-41f1-4020-9ea9-923b07f4a6df",
   "metadata": {},
   "outputs": [
    {
     "data": {
      "text/html": [
       "<div>\n",
       "<style scoped>\n",
       "    .dataframe tbody tr th:only-of-type {\n",
       "        vertical-align: middle;\n",
       "    }\n",
       "\n",
       "    .dataframe tbody tr th {\n",
       "        vertical-align: top;\n",
       "    }\n",
       "\n",
       "    .dataframe thead th {\n",
       "        text-align: right;\n",
       "    }\n",
       "</style>\n",
       "<table border=\"1\" class=\"dataframe\">\n",
       "  <thead>\n",
       "    <tr style=\"text-align: right;\">\n",
       "      <th></th>\n",
       "      <th>m</th>\n",
       "      <th>stock</th>\n",
       "    </tr>\n",
       "  </thead>\n",
       "  <tbody>\n",
       "    <tr>\n",
       "      <th>0</th>\n",
       "      <td>m1</td>\n",
       "      <td>35</td>\n",
       "    </tr>\n",
       "    <tr>\n",
       "      <th>1</th>\n",
       "      <td>m2</td>\n",
       "      <td>22</td>\n",
       "    </tr>\n",
       "    <tr>\n",
       "      <th>2</th>\n",
       "      <td>m3</td>\n",
       "      <td>27</td>\n",
       "    </tr>\n",
       "  </tbody>\n",
       "</table>\n",
       "</div>"
      ],
      "text/plain": [
       "    m  stock\n",
       "0  m1     35\n",
       "1  m2     22\n",
       "2  m3     27"
      ]
     },
     "execution_count": 49,
     "metadata": {},
     "output_type": "execute_result"
    }
   ],
   "source": [
    "stock_df = pd.read_csv(\"PyOptBook/2.tutorial/stocks.csv\")\n",
    "stock_df"
   ]
  },
  {
   "cell_type": "code",
   "execution_count": 51,
   "id": "2afe55de-29ec-48ab-8b14-23101ecc9b88",
   "metadata": {},
   "outputs": [
    {
     "data": {
      "text/html": [
       "<div>\n",
       "<style scoped>\n",
       "    .dataframe tbody tr th:only-of-type {\n",
       "        vertical-align: middle;\n",
       "    }\n",
       "\n",
       "    .dataframe tbody tr th {\n",
       "        vertical-align: top;\n",
       "    }\n",
       "\n",
       "    .dataframe thead th {\n",
       "        text-align: right;\n",
       "    }\n",
       "</style>\n",
       "<table border=\"1\" class=\"dataframe\">\n",
       "  <thead>\n",
       "    <tr style=\"text-align: right;\">\n",
       "      <th></th>\n",
       "      <th>p</th>\n",
       "      <th>gain</th>\n",
       "    </tr>\n",
       "  </thead>\n",
       "  <tbody>\n",
       "    <tr>\n",
       "      <th>0</th>\n",
       "      <td>p1</td>\n",
       "      <td>3</td>\n",
       "    </tr>\n",
       "    <tr>\n",
       "      <th>1</th>\n",
       "      <td>p2</td>\n",
       "      <td>4</td>\n",
       "    </tr>\n",
       "    <tr>\n",
       "      <th>2</th>\n",
       "      <td>p3</td>\n",
       "      <td>4</td>\n",
       "    </tr>\n",
       "    <tr>\n",
       "      <th>3</th>\n",
       "      <td>p4</td>\n",
       "      <td>5</td>\n",
       "    </tr>\n",
       "  </tbody>\n",
       "</table>\n",
       "</div>"
      ],
      "text/plain": [
       "    p  gain\n",
       "0  p1     3\n",
       "1  p2     4\n",
       "2  p3     4\n",
       "3  p4     5"
      ]
     },
     "execution_count": 51,
     "metadata": {},
     "output_type": "execute_result"
    }
   ],
   "source": [
    "gain_df = pd.read_csv(\"PyOptBook/2.tutorial/gains.csv\")\n",
    "gain_df"
   ]
  },
  {
   "cell_type": "code",
   "execution_count": 53,
   "id": "c37ae6f7-c846-4e0c-9db2-330d9a009bcc",
   "metadata": {},
   "outputs": [
    {
     "data": {
      "text/plain": [
       "['p1', 'p2', 'p3', 'p4']"
      ]
     },
     "execution_count": 53,
     "metadata": {},
     "output_type": "execute_result"
    }
   ],
   "source": [
    "P = gain_df[\"p\"].tolist()\n",
    "P"
   ]
  },
  {
   "cell_type": "code",
   "execution_count": 57,
   "id": "9a7a02fa-17eb-478c-a545-03ab777aa574",
   "metadata": {},
   "outputs": [
    {
     "data": {
      "text/plain": [
       "['m1', 'm2', 'm3']"
      ]
     },
     "execution_count": 57,
     "metadata": {},
     "output_type": "execute_result"
    }
   ],
   "source": [
    "M = stock_df[\"m\"].tolist()\n",
    "M"
   ]
  },
  {
   "cell_type": "code",
   "execution_count": 65,
   "id": "fb8e005a-9ea2-4d2e-9cb9-36d34321d5fe",
   "metadata": {},
   "outputs": [
    {
     "data": {
      "text/plain": [
       "{'m1': 35, 'm2': 22, 'm3': 27}"
      ]
     },
     "execution_count": 65,
     "metadata": {},
     "output_type": "execute_result"
    }
   ],
   "source": [
    "stock = {}\n",
    "tmp = stock_df[\"stock\"].tolist()\n",
    "for i in range(len(M)):\n",
    "    stock[M[i]] = tmp[i]\n",
    "stock"
   ]
  },
  {
   "cell_type": "code",
   "execution_count": 71,
   "id": "09c7bfb4-da82-46b8-8117-ca851df6545d",
   "metadata": {},
   "outputs": [
    {
     "data": {
      "text/plain": [
       "{'p1': 3, 'p2': 4, 'p3': 4, 'p4': 5}"
      ]
     },
     "execution_count": 71,
     "metadata": {},
     "output_type": "execute_result"
    }
   ],
   "source": [
    "gain = {}\n",
    "tmp = gain_df[\"gain\"].tolist()\n",
    "for i in range(len(P)):\n",
    "    gain[P[i]] = tmp[i]\n",
    "gain"
   ]
  },
  {
   "cell_type": "code",
   "execution_count": 77,
   "id": "354ba05d-b5c0-4843-bdbf-ff89e75f01f5",
   "metadata": {},
   "outputs": [
    {
     "data": {
      "text/plain": [
       "{('p1', 'm1'): 2,\n",
       " ('p1', 'm2'): 0,\n",
       " ('p1', 'm3'): 1,\n",
       " ('p2', 'm1'): 3,\n",
       " ('p2', 'm2'): 2,\n",
       " ('p2', 'm3'): 0,\n",
       " ('p3', 'm1'): 0,\n",
       " ('p3', 'm2'): 2,\n",
       " ('p3', 'm3'): 2,\n",
       " ('p4', 'm1'): 2,\n",
       " ('p4', 'm2'): 2,\n",
       " ('p4', 'm3'): 2}"
      ]
     },
     "execution_count": 77,
     "metadata": {},
     "output_type": "execute_result"
    }
   ],
   "source": [
    "tmp = df.values\n",
    "require = {}\n",
    "for i in range(len(tmp)):\n",
    "    require[(tmp[i][0], tmp[i][1])] = tmp[i][2]\n",
    "require"
   ]
  },
  {
   "cell_type": "code",
   "execution_count": 79,
   "id": "b0cc48b3-0d36-4487-bd16-e3c458a19242",
   "metadata": {},
   "outputs": [],
   "source": [
    "prob = pulp.LpProblem(\"LP2\", pulp.LpMaximize)"
   ]
  },
  {
   "cell_type": "code",
   "execution_count": 83,
   "id": "75b2d196-1f30-4f7e-9ee6-c1a761054715",
   "metadata": {},
   "outputs": [],
   "source": [
    "x = {}\n",
    "for p in P:\n",
    "    x[p] = pulp.LpVariable(\"x_%s\"%(p), cat=\"Continuous\")"
   ]
  },
  {
   "cell_type": "code",
   "execution_count": 87,
   "id": "2d896628-725e-41e7-939f-9309651fd284",
   "metadata": {},
   "outputs": [],
   "source": [
    "for p in P:\n",
    "    prob += x[p] >= 0"
   ]
  },
  {
   "cell_type": "code",
   "execution_count": 89,
   "id": "6f48983d-b780-43ce-bdce-e9747cf7beae",
   "metadata": {},
   "outputs": [],
   "source": [
    "for m in M:\n",
    "    prob += pulp.lpSum([require[p, m] * x[p] for p in P]) <= stock[m]"
   ]
  },
  {
   "cell_type": "code",
   "execution_count": 99,
   "id": "ebc4cc31-1e02-40cd-926d-5f787d91c7a2",
   "metadata": {},
   "outputs": [
    {
     "name": "stderr",
     "output_type": "stream",
     "text": [
      "C:\\Users\\decar\\anaconda3\\Lib\\site-packages\\pulp\\pulp.py:1650: UserWarning: Overwriting previously set objective.\n",
      "  warnings.warn(\"Overwriting previously set objective.\")\n"
     ]
    }
   ],
   "source": [
    "prob += pulp.lpSum([gain[p] * x[p]] for p in P)"
   ]
  },
  {
   "cell_type": "code",
   "execution_count": 101,
   "id": "684890ea-16eb-4ed4-ba2e-e9c5d9ac9428",
   "metadata": {},
   "outputs": [
    {
     "name": "stdout",
     "output_type": "stream",
     "text": [
      "Status: Optimal\n"
     ]
    }
   ],
   "source": [
    "status = prob.solve()\n",
    "print(\"Status:\", pulp.LpStatus[status])"
   ]
  },
  {
   "cell_type": "code",
   "execution_count": 103,
   "id": "ed5e7c1a-62fb-42c1-84d5-82abcb6d6896",
   "metadata": {},
   "outputs": [
    {
     "name": "stdout",
     "output_type": "stream",
     "text": [
      "p1 12.142857\n",
      "p2 3.5714286\n",
      "p3 7.4285714\n",
      "p4 0.0\n",
      "obj: 80.42857099999999\n"
     ]
    }
   ],
   "source": [
    "for p in P:\n",
    "    print(p, x[p].value())\n",
    "print(\"obj:\", prob.objective.value())"
   ]
  },
  {
   "cell_type": "code",
   "execution_count": 157,
   "id": "c0e11f4b-35af-41e5-bcaa-2ce52f77967b",
   "metadata": {},
   "outputs": [],
   "source": [
    "x = pulp.LpVariable.dicts(\"x\", P, cat=\"Integer\")"
   ]
  },
  {
   "cell_type": "code",
   "execution_count": 159,
   "id": "d7aa7c15-f326-432e-ac34-0f8033c243d9",
   "metadata": {},
   "outputs": [],
   "source": [
    "prob = pulp.LpProblem(\"IP\", pulp.LpMaximize)"
   ]
  },
  {
   "cell_type": "code",
   "execution_count": 161,
   "id": "b4fd6790-ffc4-4927-9c86-6375c6b5ad54",
   "metadata": {},
   "outputs": [],
   "source": [
    "for p in P:\n",
    "    prob += x[p] >= 0"
   ]
  },
  {
   "cell_type": "code",
   "execution_count": 163,
   "id": "07cb7862-f8e6-422f-9471-d6185eed8007",
   "metadata": {},
   "outputs": [],
   "source": [
    "for m in M:\n",
    "    prob += pulp.lpSum([require[p, m] * x[p] for p in P]) <= stock[m]"
   ]
  },
  {
   "cell_type": "code",
   "execution_count": 165,
   "id": "41876f3c-cbd1-4c93-ab57-d631b7e94472",
   "metadata": {},
   "outputs": [],
   "source": [
    "prob += pulp.lpSum([gain[p] * x[p]] for p in P)"
   ]
  },
  {
   "cell_type": "code",
   "execution_count": 167,
   "id": "cea9713e-af6c-485e-8bb0-3ea61abdb8c4",
   "metadata": {},
   "outputs": [
    {
     "name": "stdout",
     "output_type": "stream",
     "text": [
      "Status: Optimal\n"
     ]
    }
   ],
   "source": [
    "status = prob.solve()\n",
    "print(\"Status:\", pulp.LpStatus[status])"
   ]
  },
  {
   "cell_type": "code",
   "execution_count": 169,
   "id": "7dfea5f9-1a87-4daa-8b71-6a283ec77498",
   "metadata": {},
   "outputs": [
    {
     "name": "stdout",
     "output_type": "stream",
     "text": [
      "p1 13.0\n",
      "p2 3.0\n",
      "p3 7.0\n",
      "p4 -0.0\n",
      "obj: 79.0\n"
     ]
    }
   ],
   "source": [
    "for p in P:\n",
    "    print(p, x[p].value())\n",
    "print(\"obj:\", prob.objective.value())"
   ]
  },
  {
   "cell_type": "code",
   "execution_count": null,
   "id": "93ec5962-90e7-4c11-8b2b-9323c3f07f28",
   "metadata": {},
   "outputs": [],
   "source": []
  }
 ],
 "metadata": {
  "kernelspec": {
   "display_name": "Python 3 (ipykernel)",
   "language": "python",
   "name": "python3"
  },
  "language_info": {
   "codemirror_mode": {
    "name": "ipython",
    "version": 3
   },
   "file_extension": ".py",
   "mimetype": "text/x-python",
   "name": "python",
   "nbconvert_exporter": "python",
   "pygments_lexer": "ipython3",
   "version": "3.12.4"
  }
 },
 "nbformat": 4,
 "nbformat_minor": 5
}
